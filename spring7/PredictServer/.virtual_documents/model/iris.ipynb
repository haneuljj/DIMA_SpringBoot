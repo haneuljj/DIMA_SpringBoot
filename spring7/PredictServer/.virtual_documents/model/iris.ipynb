# package import
import pandas as pd
import numpy as np
import pickle

from sklearn.datasets import load_iris
from sklearn.neighbors import KNeighborsClassifier
from sklearn.model_selection import train_test_split


# 데이터 불러오기
iris = load_iris()

print(iris)


# 데이터프레임으로 만들기
iris_df = pd.DataFrame(iris['data'], columns=iris['feature_names'])
iris_df


target = iris['target_names']


# 학습, 정답 데이터
X = iris_df
y = iris['target']

# X1_train = X.iloc[:105]
# X1_test = X.iloc[105:]

# y1_train = y[ :105]
# y1_test = y[105:]


X_train, X_test, y_train, y_test = train_test_split(X, y, test_size=0.3, random_state=1)


# 모델 생성 및 학습
knn_model = KNeighborsClassifier(n_neighbors=3)
knn_model.fit(X_train, y_train)


# 예측
knn_model.predict(X_test)
print(knn_model.score(X_test, y_test))


# 데이터 입력하여 결과 확인
pred = knn_model.predict([[5.1, 3.5, 1.4, 0.2]])
print('결과:', target[pred[0]])


# 피클 파일 저장 
with open ('data.pickle', 'wb') as f:
    pickle.dump(knn_model, f, pickle.HIGHEST_PROTOCOL)



